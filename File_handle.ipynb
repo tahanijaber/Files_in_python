{
  "nbformat": 4,
  "nbformat_minor": 0,
  "metadata": {
    "colab": {
      "name": "File_handle.ipynb",
      "provenance": []
    },
    "kernelspec": {
      "name": "python3",
      "display_name": "Python 3"
    },
    "language_info": {
      "name": "python"
    }
  },
  "cells": [
    {
      "cell_type": "markdown",
      "metadata": {
        "id": "m0yOnvCRXUiU"
      },
      "source": [
        "**File Handling in Python**"
      ]
    },
    {
      "cell_type": "code",
      "metadata": {
        "id": "zVYRLNxUXXlH"
      },
      "source": [
        "# a file named \"story\", will be opened with the reading mode \n",
        "File =open('story.txt','r')"
      ],
      "execution_count": null,
      "outputs": []
    },
    {
      "cell_type": "markdown",
      "metadata": {
        "id": "82hW-7lOAoBk"
      },
      "source": [
        "**Python file write() function**\n"
      ]
    },
    {
      "cell_type": "code",
      "metadata": {
        "id": "Ami-EXmPAwq0"
      },
      "source": [
        "mainFile = 'add.txt'\n",
        "file = open(mainFile, 'w')\n",
        "file.write('AppDividend  \\n')"
      ],
      "execution_count": null,
      "outputs": []
    },
    {
      "cell_type": "markdown",
      "metadata": {
        "id": "vo4_5MX0A0Vi"
      },
      "source": [
        "**Append to a File in Python**"
      ]
    },
    {
      "cell_type": "code",
      "metadata": {
        "id": "-Z3Oh7CbA5Hc"
      },
      "source": [
        "File = open(' text.txt','a')\n",
        "File.write(\" this will add this line\")\n",
        "file.close()\n"
      ],
      "execution_count": null,
      "outputs": []
    },
    {
      "cell_type": "markdown",
      "metadata": {
        "id": "pb2GOLbEA8A5"
      },
      "source": [
        "**Create a new file in Python**"
      ]
    },
    {
      "cell_type": "code",
      "metadata": {
        "id": "zYTkM1rqBB9P"
      },
      "source": [
        "mainFile = 'new.txt'\n",
        "file = open(mainFile, 'x') file \\n')\n",
        "file.close()"
      ],
      "execution_count": null,
      "outputs": []
    },
    {
      "cell_type": "markdown",
      "metadata": {
        "id": "hghSgVlVBGwW"
      },
      "source": [
        "**Close a File in Python **"
      ]
    },
    {
      "cell_type": "code",
      "metadata": {
        "id": "ki8ZLGdgBViD"
      },
      "source": [
        "mainFile = 'new.txt'\n",
        "file = open(mainFile, 'x')\n",
        "file.write('a file \\n')\n",
        "file.close()"
      ],
      "execution_count": null,
      "outputs": []
    }
  ]
}